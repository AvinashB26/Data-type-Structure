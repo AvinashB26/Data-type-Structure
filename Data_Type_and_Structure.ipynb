{
  "nbformat": 4,
  "nbformat_minor": 0,
  "metadata": {
    "colab": {
      "provenance": []
    },
    "kernelspec": {
      "name": "python3",
      "display_name": "Python 3"
    },
    "language_info": {
      "name": "python"
    }
  },
  "cells": [
    {
      "cell_type": "markdown",
      "source": [
        "# Data Type and Structure"
      ],
      "metadata": {
        "id": "JDzig271lAbS"
      }
    },
    {
      "cell_type": "markdown",
      "source": [
        "**Ques 1.** What are data structures, and why are they important?\n",
        "\n",
        "**Ans:**\n",
        "Data structures are ways of organizing and storing data so that they can be accessed and manipulated efficiently. They are important because they enable efficient algorithms, data management, search, and processing, which are crucial for software development and data analysis."
      ],
      "metadata": {
        "id": "5u7lHyaXlFNg"
      }
    },
    {
      "cell_type": "markdown",
      "source": [
        "**Ques 2**. Explain the difference between mutable and immutable data types with examples.\n",
        "\n",
        "**Ans:** Mutable data types can be changed after they are created (e.g., lists, dictionaries). Immutable data types cannot be changed after they are created (e.g., tuples, strings)."
      ],
      "metadata": {
        "id": "mLhMFMrvlmEJ"
      }
    },
    {
      "cell_type": "markdown",
      "source": [
        "**Ques 3.** What are the main differences between lists and tuples in Python?\n",
        "\n",
        "**Ans:**\n",
        "Lists are mutable, while tuples are immutable. Lists are defined using square brackets [], and tuples are defined using parentheses ()."
      ],
      "metadata": {
        "id": "WKDGITXZmbZM"
      }
    },
    {
      "cell_type": "markdown",
      "source": [
        "**Ques 4.** Describe how dictionaries store data.\n",
        "\n",
        "**Ans:**\n",
        "Dictionaries store data in key-value pairs. Keys are unique identifiers, and values are the data associated with those keys.\n",
        "\n",
        "**Syn:** My_dict{key:value}"
      ],
      "metadata": {
        "id": "W6lC1sKJnTEf"
      }
    },
    {
      "cell_type": "markdown",
      "source": [
        "**Ques 5.** Why might you use a set instead of a list in Python?\n",
        "\n",
        "**Ans:** Sets are used when you need to store unique elements and perform set operations (e.g., union, intersection). Sets offer faster membership testing compared to lists."
      ],
      "metadata": {
        "id": "X3NSKHY1n7HM"
      }
    },
    {
      "cell_type": "markdown",
      "source": [
        "**Ques 6.** What is a string in Python, and how is it different from a list?\n",
        "\n",
        "**Ans:** A string is a sequence of characters. Strings are immutable, while lists are mutable. Strings are used for text, while lists can store various data types.\n"
      ],
      "metadata": {
        "id": "3Sut0BA_pip2"
      }
    },
    {
      "cell_type": "markdown",
      "source": [
        "**Ques 7.** How do tuples ensure data integrity in Python?\n",
        "\n",
        "**Ans:**\n",
        "Tuples ensure data integrity because they are immutable, preventing accidental modification of data."
      ],
      "metadata": {
        "id": "YQm3u1aVwvDt"
      }
    },
    {
      "cell_type": "markdown",
      "source": [
        "**Ques 8.** What is a hash table, and how does it relate to dictionaries in Python?\n",
        "\n",
        "**Ans:**\n",
        "A hash table is a data structure that implements an associative array, similar to a dictionary.\n",
        "Dictionaries in Python are implemented using hash tables for efficient key-based lookups."
      ],
      "metadata": {
        "id": "kHB2Az-Ww5C5"
      }
    },
    {
      "cell_type": "markdown",
      "source": [
        "**Ques 9.** Can lists contain different data types in Python?\n",
        "\n",
        "**Ans:**\n",
        "Yes, lists in Python can contain elements of different data types."
      ],
      "metadata": {
        "id": "hsNmxl3WxKYu"
      }
    },
    {
      "cell_type": "markdown",
      "source": [
        "**Ques 10.** Explain why strings are immutable in Python.\n",
        "\n",
        "**Ans:** Strings are immutable for efficiency reasons. It avoids the overhead of allocating new memory every time a string is modified."
      ],
      "metadata": {
        "id": "5u3VUGeNymqk"
      }
    },
    {
      "cell_type": "markdown",
      "source": [
        "**Ques 11.** What advantages do dictionaries offer over lists for certain tasks?\n",
        "\n",
        "**Ans:**\n",
        "Dictionaries offer faster data retrieval using keys compared to lists, which require searching through elements."
      ],
      "metadata": {
        "id": "oUwxO6yQy2Zr"
      }
    },
    {
      "cell_type": "markdown",
      "source": [
        "**Ques 12.** Describe a scenario where using a tuple would be preferable over a list.\n",
        "\n",
        "**Ans:** Tuples are preferable when you need to store a collection of items that should not be changed, such as coordinates or configuration settings."
      ],
      "metadata": {
        "id": "1Bk4mTJqzGWO"
      }
    },
    {
      "cell_type": "markdown",
      "source": [
        "**Ques 13.** How do sets handle duplicate values in Python?\n",
        "\n",
        "**Ans:** Sets automatically remove duplicate values, ensuring that each element is unique."
      ],
      "metadata": {
        "id": "v-dsviIXzY2L"
      }
    },
    {
      "cell_type": "code",
      "source": [
        "my_set = {\"red\", \"green\", \"blue\", \"red\"}\n",
        "print(my_set)"
      ],
      "metadata": {
        "colab": {
          "base_uri": "https://localhost:8080/"
        },
        "id": "dMhDNGPuzlTD",
        "outputId": "09f38949-84c9-494b-9571-f0a27aecbc7e"
      },
      "execution_count": 1,
      "outputs": [
        {
          "output_type": "stream",
          "name": "stdout",
          "text": [
            "{'blue', 'green', 'red'}\n"
          ]
        }
      ]
    },
    {
      "cell_type": "markdown",
      "source": [
        "**Ques 14.** How does the \"in\" keyword work differently for lists and dictionaries?\n",
        "\n",
        "**Ans.** For lists, the \"in\" keyword checks for the presence of a value in the list.\n",
        "For dictionaries, the \"in\" keyword checks for the presence of a key in the dictionary."
      ],
      "metadata": {
        "id": "U-Pg4jpRz1Oc"
      }
    },
    {
      "cell_type": "code",
      "source": [
        "my_list = [1,2,3,4,5]\n",
        "if 3 in my_list:\n",
        "    print(\"3 is in the list\")\n",
        "my_dict = {\"Dad\":1234, \"Mom\":4321, \"Bro\":5678}\n",
        "if \"Mom\" in my_dict:\n",
        "    print(\"Mom is in the dictionary\")"
      ],
      "metadata": {
        "colab": {
          "base_uri": "https://localhost:8080/"
        },
        "id": "ahKDEyEC0D0P",
        "outputId": "550bef87-0e68-4bfa-e820-16af9a4fb162"
      },
      "execution_count": 2,
      "outputs": [
        {
          "output_type": "stream",
          "name": "stdout",
          "text": [
            "3 is in the list\n",
            "Mom is in the dictionary\n"
          ]
        }
      ]
    },
    {
      "cell_type": "markdown",
      "source": [
        "**Ques 15.** Can you modify the elements of a tuple? Explain why or why not.\n",
        "\n",
        "**Ans:** No, you cannot modify the elements of a tuple because tuples are immutable. This means that once a tuple is created, its elements cannot be changed, added, or removed."
      ],
      "metadata": {
        "id": "X9DCTlFN02ws"
      }
    },
    {
      "cell_type": "code",
      "source": [
        "my_tuple = (1,2,3,4,5)\n",
        "my_tuple[0]=6"
      ],
      "metadata": {
        "colab": {
          "base_uri": "https://localhost:8080/",
          "height": 158
        },
        "id": "PEgsdJy62eNC",
        "outputId": "4097653f-cb09-4676-8c61-ef3aabe74361"
      },
      "execution_count": 17,
      "outputs": [
        {
          "output_type": "error",
          "ename": "TypeError",
          "evalue": "'tuple' object does not support item assignment",
          "traceback": [
            "\u001b[0;31m---------------------------------------------------------------------------\u001b[0m",
            "\u001b[0;31mTypeError\u001b[0m                                 Traceback (most recent call last)",
            "\u001b[0;32m<ipython-input-17-4b4b8dc07ae5>\u001b[0m in \u001b[0;36m<cell line: 0>\u001b[0;34m()\u001b[0m\n\u001b[1;32m      1\u001b[0m \u001b[0mmy_tuple\u001b[0m \u001b[0;34m=\u001b[0m \u001b[0;34m(\u001b[0m\u001b[0;36m1\u001b[0m\u001b[0;34m,\u001b[0m\u001b[0;36m2\u001b[0m\u001b[0;34m,\u001b[0m\u001b[0;36m3\u001b[0m\u001b[0;34m,\u001b[0m\u001b[0;36m4\u001b[0m\u001b[0;34m,\u001b[0m\u001b[0;36m5\u001b[0m\u001b[0;34m)\u001b[0m\u001b[0;34m\u001b[0m\u001b[0;34m\u001b[0m\u001b[0m\n\u001b[0;32m----> 2\u001b[0;31m \u001b[0mmy_tuple\u001b[0m\u001b[0;34m[\u001b[0m\u001b[0;36m0\u001b[0m\u001b[0;34m]\u001b[0m\u001b[0;34m=\u001b[0m\u001b[0;36m6\u001b[0m\u001b[0;34m\u001b[0m\u001b[0;34m\u001b[0m\u001b[0m\n\u001b[0m",
            "\u001b[0;31mTypeError\u001b[0m: 'tuple' object does not support item assignment"
          ]
        }
      ]
    },
    {
      "cell_type": "markdown",
      "source": [
        "**Ques 16.** What is a nested dictionary, and give an example of its use case?\n",
        "\n",
        "**Ans:**\n",
        "A nested dictionary is a dictionary where values are also dictionaries. Example: Storing student records with details like name, grades, and contact information, where grades and contact information are further dictionaries."
      ],
      "metadata": {
        "id": "Nm7jR0TC3_D7"
      }
    },
    {
      "cell_type": "markdown",
      "source": [
        "**Ques 17.** Describe the time complexity of accessing elements in a dictionary.\n",
        "\n",
        "**Ans:**\n",
        "The average time complexity of accessing elements in a dictionary is O(1) (constant time) due to the use of hash tables"
      ],
      "metadata": {
        "id": "gSqKF3OH4cNY"
      }
    },
    {
      "cell_type": "markdown",
      "source": [
        "**Ques 18.** In what situations are lists preferred over dictionaries?\n",
        "\n",
        "**Ans.**\n",
        "Lists are preferred when you need to store an ordered collection of items and the order of elements matters.\n",
        "Lists are also preferred when you have a sequence of data where elements are accessed by their position (index)."
      ],
      "metadata": {
        "id": "NMSBSQBb4qQJ"
      }
    },
    {
      "cell_type": "markdown",
      "source": [
        "**Ques19.** Why are dictionaries considered unordered, and how does that affect data retrieval?\n",
        "\n",
        "**Ans:**\n",
        "Dictionaries are considered unordered because the order of key-value pairs is not guaranteed.\n",
        "This means you cannot rely on the order of elements when retrieving data, but dictionaries provide fast retrieval based on keys."
      ],
      "metadata": {
        "id": "mGQG67KH45Vc"
      }
    },
    {
      "cell_type": "markdown",
      "source": [
        "**Ques20.**Explain the difference between a list and a dictionary in terms of data retrieval.\n",
        "\n",
        "**Ans:**\n",
        "In a list, you retrieve data by its index (position).\n",
        "In a dictionary, you retrieve data by its key."
      ],
      "metadata": {
        "id": "cMHmzLfg5Hd0"
      }
    },
    {
      "cell_type": "markdown",
      "source": [
        "#Practical Questions:"
      ],
      "metadata": {
        "id": "_tswkU7Q6EKF"
      }
    },
    {
      "cell_type": "code",
      "source": [
        "#Ques1. Write a code to create a string with your name and print it.\n",
        "#Ans:\n",
        "\n",
        "my_name = \"Avinash Bhardwaj\"\n",
        "print(my_name)"
      ],
      "metadata": {
        "colab": {
          "base_uri": "https://localhost:8080/"
        },
        "id": "irT5caej6HI7",
        "outputId": "8784ec93-3774-494c-9097-042afebe3cb7"
      },
      "execution_count": 18,
      "outputs": [
        {
          "output_type": "stream",
          "name": "stdout",
          "text": [
            "Avinash Bhardwaj\n"
          ]
        }
      ]
    },
    {
      "cell_type": "code",
      "source": [
        "#Ques2. Write a code to find the length of the string \"Hello World\".\n",
        "\n",
        "#Ans:\n",
        "\n",
        "Str = \"Hello World\"\n",
        "len(Str)"
      ],
      "metadata": {
        "colab": {
          "base_uri": "https://localhost:8080/"
        },
        "id": "Bmj1zYK_6Vyc",
        "outputId": "cc667084-e6fe-4530-c3b6-b5e83eb721ee"
      },
      "execution_count": 20,
      "outputs": [
        {
          "output_type": "execute_result",
          "data": {
            "text/plain": [
              "11"
            ]
          },
          "metadata": {},
          "execution_count": 20
        }
      ]
    },
    {
      "cell_type": "code",
      "source": [
        "#Ques 3. Write a code to slice the first 3 characters from the string \"Python Programming\".\n",
        "\n",
        "#Ans:\n",
        "\n",
        "Str = \"Python Programming\"\n",
        "Str[0:3]"
      ],
      "metadata": {
        "colab": {
          "base_uri": "https://localhost:8080/",
          "height": 36
        },
        "id": "pUvqrDkG6s2d",
        "outputId": "33a1d3a2-4923-4128-dd45-26d140056e1f"
      },
      "execution_count": 21,
      "outputs": [
        {
          "output_type": "execute_result",
          "data": {
            "text/plain": [
              "'Pyt'"
            ],
            "application/vnd.google.colaboratory.intrinsic+json": {
              "type": "string"
            }
          },
          "metadata": {},
          "execution_count": 21
        }
      ]
    },
    {
      "cell_type": "code",
      "source": [
        "#Ques 4. Write a code to convert the string \"hello\" to uppercase.\n",
        "\n",
        "#Ans:\n",
        "\n",
        "Str = \"hello\"\n",
        "Str.upper()"
      ],
      "metadata": {
        "colab": {
          "base_uri": "https://localhost:8080/",
          "height": 36
        },
        "id": "GfXJIEUB7AJP",
        "outputId": "4afa888e-4c36-4f8d-fda3-394b5facba5e"
      },
      "execution_count": 22,
      "outputs": [
        {
          "output_type": "execute_result",
          "data": {
            "text/plain": [
              "'HELLO'"
            ],
            "application/vnd.google.colaboratory.intrinsic+json": {
              "type": "string"
            }
          },
          "metadata": {},
          "execution_count": 22
        }
      ]
    },
    {
      "cell_type": "code",
      "source": [
        "#Ques 5. Write a code to replace the word \"apple\" with \"orange\" in the string \"I like apple\".\n",
        "#Ans:\n",
        "string = \"I like apple\"\n",
        "string.replace(\"apple\", \"orange\")"
      ],
      "metadata": {
        "colab": {
          "base_uri": "https://localhost:8080/",
          "height": 36
        },
        "id": "ahQB-4LZ7KpT",
        "outputId": "fed94519-b62b-432b-f883-b8082cfce183"
      },
      "execution_count": 23,
      "outputs": [
        {
          "output_type": "execute_result",
          "data": {
            "text/plain": [
              "'I like orange'"
            ],
            "application/vnd.google.colaboratory.intrinsic+json": {
              "type": "string"
            }
          },
          "metadata": {},
          "execution_count": 23
        }
      ]
    },
    {
      "cell_type": "code",
      "source": [
        "#Ques 6. Write a code to create a list with numbers 1 to 5 and print it..\n",
        "#Ans:\n",
        "my_list = [1,2,3,4,5]\n",
        "print(my_list)\n"
      ],
      "metadata": {
        "colab": {
          "base_uri": "https://localhost:8080/"
        },
        "outputId": "acde75cb-769c-4e1b-d388-c478c8d7f91c",
        "id": "Scx688vg7Yso"
      },
      "execution_count": 24,
      "outputs": [
        {
          "output_type": "stream",
          "name": "stdout",
          "text": [
            "[1, 2, 3, 4, 5]\n"
          ]
        }
      ]
    },
    {
      "cell_type": "code",
      "source": [
        "# Ques 7. Write a code to append the number 10 to the list [1, 2, 3, 4].\n",
        "#Ans:\n",
        "\n",
        "my_list = [1,2,3,4]\n",
        "my_list.append(10)\n",
        "print(my_list)\n"
      ],
      "metadata": {
        "colab": {
          "base_uri": "https://localhost:8080/"
        },
        "id": "ojdF7xnc7nXp",
        "outputId": "d50bfb2a-3586-4806-bcf6-87e8d8cc9cc2"
      },
      "execution_count": 25,
      "outputs": [
        {
          "output_type": "stream",
          "name": "stdout",
          "text": [
            "[1, 2, 3, 4, 10]\n"
          ]
        }
      ]
    },
    {
      "cell_type": "code",
      "source": [
        "#Ques 8. Write a code to remove the number 3 from the list [1, 2, 3, 4, 5].\n",
        "\n",
        "#Ans:\n",
        "my_list = [1,2,3,4,5]\n",
        "my_list.remove(3)\n",
        "print(my_list)"
      ],
      "metadata": {
        "colab": {
          "base_uri": "https://localhost:8080/"
        },
        "id": "p6jZ516H7w_c",
        "outputId": "26152484-20e4-43b1-e0b9-9a7c4647eac5"
      },
      "execution_count": 26,
      "outputs": [
        {
          "output_type": "stream",
          "name": "stdout",
          "text": [
            "[1, 2, 4, 5]\n"
          ]
        }
      ]
    },
    {
      "cell_type": "code",
      "source": [
        "#Ques 9. Write a code to access the second element in the list ['a', 'b', 'c', 'd'].\n",
        "#Ans:\n",
        "my_list = ['a', 'b', 'c', 'd']\n",
        "my_list[1]\n"
      ],
      "metadata": {
        "colab": {
          "base_uri": "https://localhost:8080/",
          "height": 36
        },
        "id": "BD9c-Pkk9fa1",
        "outputId": "a64001ac-24c7-4a19-9465-fcd20bc6e37d"
      },
      "execution_count": 27,
      "outputs": [
        {
          "output_type": "execute_result",
          "data": {
            "text/plain": [
              "'b'"
            ],
            "application/vnd.google.colaboratory.intrinsic+json": {
              "type": "string"
            }
          },
          "metadata": {},
          "execution_count": 27
        }
      ]
    },
    {
      "cell_type": "code",
      "source": [
        "#Ques 10. Write a code to reverse the list [10, 20, 30, 40, 50].\n",
        "\n",
        "#Ans:\n",
        "my_list = [10, 20, 30, 40, 50]\n",
        "my_list.reverse()\n",
        "print(my_list)"
      ],
      "metadata": {
        "colab": {
          "base_uri": "https://localhost:8080/"
        },
        "id": "Fj9qZBKj-Ab7",
        "outputId": "b8e4fe37-c7c5-46c3-8d37-c1433c473114"
      },
      "execution_count": 28,
      "outputs": [
        {
          "output_type": "stream",
          "name": "stdout",
          "text": [
            "[50, 40, 30, 20, 10]\n"
          ]
        }
      ]
    },
    {
      "cell_type": "code",
      "source": [
        "#Ques 11. Write a code to create a tuple with the elements 100, 200, 300 and print it.\n",
        "\n",
        "#Ans:\n",
        "my_tuple = (100,200,300)\n",
        "print(my_tuple)\n"
      ],
      "metadata": {
        "colab": {
          "base_uri": "https://localhost:8080/"
        },
        "id": "o7RhOZrj-Sqc",
        "outputId": "4153f30a-6803-4181-ddbc-90e0a4da754d"
      },
      "execution_count": 29,
      "outputs": [
        {
          "output_type": "stream",
          "name": "stdout",
          "text": [
            "(100, 200, 300)\n"
          ]
        }
      ]
    },
    {
      "cell_type": "code",
      "source": [
        "#Ques 12. Write a code to access the second-to-last element of the tuple ('red', 'green', 'blue', 'yellow').\n",
        "#Ans:\n",
        "my_tuple = ('red', 'green', 'blue', 'yellow')\n",
        "second_to_last = my_tuple[-2]\n",
        "print(second_to_last)"
      ],
      "metadata": {
        "colab": {
          "base_uri": "https://localhost:8080/"
        },
        "id": "xlCeEVRI-bE5",
        "outputId": "7539a495-a51b-477a-f0bb-0129318152b6"
      },
      "execution_count": 31,
      "outputs": [
        {
          "output_type": "stream",
          "name": "stdout",
          "text": [
            "blue\n"
          ]
        }
      ]
    },
    {
      "cell_type": "code",
      "source": [
        "#Ques 13. Write a code to find the minimum number in the tuple (10, 20, 5, 15).\n",
        "#Ans:\n",
        "my_tuple = (10, 20, 5, 15)\n",
        "min(my_tuple)"
      ],
      "metadata": {
        "colab": {
          "base_uri": "https://localhost:8080/"
        },
        "id": "fxAoQC0v-iy1",
        "outputId": "3a6025f8-1534-4d83-b992-d4acaba4e8d9"
      },
      "execution_count": 32,
      "outputs": [
        {
          "output_type": "execute_result",
          "data": {
            "text/plain": [
              "5"
            ]
          },
          "metadata": {},
          "execution_count": 32
        }
      ]
    },
    {
      "cell_type": "code",
      "source": [
        "#Ques 14. Write a code to find the index of the element \"cat\" in the tuple ('dog', 'cat', 'rabbit').\n",
        "#Ans:\n",
        "\n",
        "my_tuple = ('dog', 'cat', 'rabbit')\n",
        "my_tuple.index('cat')"
      ],
      "metadata": {
        "colab": {
          "base_uri": "https://localhost:8080/"
        },
        "id": "HxfEQy4k-5gw",
        "outputId": "6edd9b56-25c3-471f-a7a4-946332313958"
      },
      "execution_count": 33,
      "outputs": [
        {
          "output_type": "execute_result",
          "data": {
            "text/plain": [
              "1"
            ]
          },
          "metadata": {},
          "execution_count": 33
        }
      ]
    },
    {
      "cell_type": "code",
      "source": [
        "#Ques 15. Write a code to create a tuple containing three different fruits and check if \"kiwi\" is in it.\n",
        "\n",
        "#Ans:\n",
        "my_tuple = (\"apple\", \"banana\", \"cherry\")\n",
        "if \"kiwi\" in my_tuple:\n",
        "    print(\"kiwi is in the tuple\")\n",
        "else:\n",
        "    print(\"kiwi is not in the tuple\")"
      ],
      "metadata": {
        "colab": {
          "base_uri": "https://localhost:8080/"
        },
        "id": "IgrBbxug_NRU",
        "outputId": "db69cc5c-5dd2-492a-faad-0f8f3ef5afe7"
      },
      "execution_count": 34,
      "outputs": [
        {
          "output_type": "stream",
          "name": "stdout",
          "text": [
            "kiwi is not in the tuple\n"
          ]
        }
      ]
    },
    {
      "cell_type": "code",
      "source": [
        "#Ques 16. Write a code to create a set with the elements 'a', 'b', 'c' and print it.\n",
        "\n",
        "#Ans:\n",
        "my_set = {'a', 'b', 'c'}\n",
        "print(my_set)"
      ],
      "metadata": {
        "colab": {
          "base_uri": "https://localhost:8080/"
        },
        "id": "9J_dQenV_bW6",
        "outputId": "bd3a4c46-4944-404e-d77a-33112e09bda8"
      },
      "execution_count": 35,
      "outputs": [
        {
          "output_type": "stream",
          "name": "stdout",
          "text": [
            "{'c', 'b', 'a'}\n"
          ]
        }
      ]
    },
    {
      "cell_type": "code",
      "source": [
        "#Ques 17. Write a code to clear all elements from the set {1, 2, 3, 4, 5}.\n",
        "\n",
        "#Ans:\n",
        "my_set = {1, 2, 3, 4, 5}\n",
        "my_set.clear()\n",
        "print(my_set)"
      ],
      "metadata": {
        "colab": {
          "base_uri": "https://localhost:8080/"
        },
        "id": "fmvYoUbW_pvv",
        "outputId": "716854ab-4b95-40e3-e6f8-f5c796a06ede"
      },
      "execution_count": 36,
      "outputs": [
        {
          "output_type": "stream",
          "name": "stdout",
          "text": [
            "set()\n"
          ]
        }
      ]
    },
    {
      "cell_type": "code",
      "source": [
        "#Ques 18. Write a code to remove the element 4 from the set {1, 2, 3, 4}.\n",
        "\n",
        "#Ans:\n",
        "my_set = {1, 2, 3, 4}\n",
        "my_set.remove(4)\n",
        "print(my_set)"
      ],
      "metadata": {
        "colab": {
          "base_uri": "https://localhost:8080/"
        },
        "id": "M1595wrx_wGM",
        "outputId": "c2bc9ed8-00d5-4a37-a306-731c7c417e61"
      },
      "execution_count": 37,
      "outputs": [
        {
          "output_type": "stream",
          "name": "stdout",
          "text": [
            "{1, 2, 3}\n"
          ]
        }
      ]
    },
    {
      "cell_type": "code",
      "source": [
        "#Ques 19. Write a code to find the union of two sets {1, 2, 3} and {3, 4, 5}.\n",
        "\n",
        "#Ans:\n",
        "my_set1 = {1,2,3}\n",
        "my_set2 = {3,4,5}\n",
        "my_set1.union(my_set2)"
      ],
      "metadata": {
        "colab": {
          "base_uri": "https://localhost:8080/"
        },
        "id": "RPnHLqeF_2uN",
        "outputId": "844ccd8d-6ec6-41c1-fe0a-310c3b990e08"
      },
      "execution_count": 38,
      "outputs": [
        {
          "output_type": "execute_result",
          "data": {
            "text/plain": [
              "{1, 2, 3, 4, 5}"
            ]
          },
          "metadata": {},
          "execution_count": 38
        }
      ]
    },
    {
      "cell_type": "code",
      "source": [
        "#Ques 20. Write a code to find the intersection of two sets {1, 2, 3} and {2, 3, 4}.\n",
        "\n",
        "#Ans:\n",
        "my_set1 = {1,2,3}\n",
        "my_set2 = {2,3,4}\n",
        "my_set1.intersection(my_set2)"
      ],
      "metadata": {
        "colab": {
          "base_uri": "https://localhost:8080/"
        },
        "id": "rKb8FkAWAHsk",
        "outputId": "07fd2544-4bdd-4822-ec27-893a674e5b4d"
      },
      "execution_count": 39,
      "outputs": [
        {
          "output_type": "execute_result",
          "data": {
            "text/plain": [
              "{2, 3}"
            ]
          },
          "metadata": {},
          "execution_count": 39
        }
      ]
    },
    {
      "cell_type": "code",
      "source": [
        "#Ques 21. Write a code to create a dictionary with the keys \"name\", \"age\", and \"city\", and print it.\n",
        "\n",
        "#Ans:\n",
        "my_dict = {\"name\":\"Avinash\", \"age\":30, \"city\":\"Allahabad\"}\n",
        "print(my_dict)"
      ],
      "metadata": {
        "colab": {
          "base_uri": "https://localhost:8080/"
        },
        "id": "gIEiv-zhAP7x",
        "outputId": "88a55d32-5e41-4d4a-9f6b-c90317a6ce51"
      },
      "execution_count": 40,
      "outputs": [
        {
          "output_type": "stream",
          "name": "stdout",
          "text": [
            "{'name': 'Avinash', 'age': 30, 'city': 'Allahabad'}\n"
          ]
        }
      ]
    },
    {
      "cell_type": "code",
      "source": [
        "#Ques 22. Write a code to add a new key-value pair \"country\": \"USA\" to the dictionary {'name': 'John', 'age': 25}.\n",
        "#Ans:\n",
        "my_dict = {'name': 'John', 'age': 25}\n",
        "my_dict[\"country\"] = \"USA\"\n",
        "print(my_dict)"
      ],
      "metadata": {
        "colab": {
          "base_uri": "https://localhost:8080/"
        },
        "id": "_l153v6WAhdw",
        "outputId": "dee671b5-a500-4c4d-897d-eed84ea0e7a4"
      },
      "execution_count": 41,
      "outputs": [
        {
          "output_type": "stream",
          "name": "stdout",
          "text": [
            "{'name': 'John', 'age': 25, 'country': 'USA'}\n"
          ]
        }
      ]
    },
    {
      "cell_type": "code",
      "source": [
        "#Ques 23. Write a code to access the value associated with the key \"name\" in the dictionary {'name': 'Alice', 'age': 30}.\n",
        "#Ans:\n",
        "my_dict = {'name': 'Alice', 'age': 30}\n",
        "my_dict[\"name\"]"
      ],
      "metadata": {
        "colab": {
          "base_uri": "https://localhost:8080/",
          "height": 36
        },
        "id": "03fFpzimArwB",
        "outputId": "722109b7-5829-4193-ecd5-720c6819bc73"
      },
      "execution_count": 42,
      "outputs": [
        {
          "output_type": "execute_result",
          "data": {
            "text/plain": [
              "'Alice'"
            ],
            "application/vnd.google.colaboratory.intrinsic+json": {
              "type": "string"
            }
          },
          "metadata": {},
          "execution_count": 42
        }
      ]
    },
    {
      "cell_type": "code",
      "source": [
        "#Ques 24. Write a code to remove the key \"age\" from the dictionary {'name': 'Bob', 'age': 22, 'city': 'New York'}.\n",
        "#Ans:\n",
        "my_dict = {'name': 'Bob', 'age': 22, 'city': 'New York'}\n",
        "my_dict.pop(\"age\")\n",
        "print(my_dict)"
      ],
      "metadata": {
        "colab": {
          "base_uri": "https://localhost:8080/"
        },
        "id": "wBzDebzVBC-B",
        "outputId": "d28e65d0-29b2-4bee-acb7-faaf24cf3a69"
      },
      "execution_count": 43,
      "outputs": [
        {
          "output_type": "stream",
          "name": "stdout",
          "text": [
            "{'name': 'Bob', 'city': 'New York'}\n"
          ]
        }
      ]
    },
    {
      "cell_type": "code",
      "source": [
        "#Ques 25. Write a code to check if the key \"city\" exists in the dictionary {'name': 'Alice', 'city': 'Paris'}.\n",
        "#Ans:\n",
        "my_dict = {'name': 'Alice', 'city': 'Paris'}\n",
        "if \"city\" in my_dict:\n",
        "    print(\"city is in the dictionary\")\n",
        "else:\n",
        "    print(\"city is not in the dictionary\")"
      ],
      "metadata": {
        "colab": {
          "base_uri": "https://localhost:8080/"
        },
        "id": "0l5z5UnIBTfj",
        "outputId": "95096bd4-a534-41e5-e593-c6710bcf4f27"
      },
      "execution_count": 44,
      "outputs": [
        {
          "output_type": "stream",
          "name": "stdout",
          "text": [
            "city is in the dictionary\n"
          ]
        }
      ]
    },
    {
      "cell_type": "code",
      "source": [
        "#Ques 26. Write a code to create a list, a tuple, and a dictionary, and print them all.\n",
        "#Ans:\n",
        "my_list = [1,2,3]\n",
        "my_tuple = (2,3,4)\n",
        "my_dict = {\"Name\":\"Avi\", \"Age\":30, \"City\": \"Allahabad\"}\n",
        "print(my_list)\n",
        "print(my_tuple)\n",
        "print(my_dict)"
      ],
      "metadata": {
        "colab": {
          "base_uri": "https://localhost:8080/"
        },
        "id": "hcH0oPAvDhcr",
        "outputId": "3cdc41e1-84b7-4c56-c45b-085d8c4fae4d"
      },
      "execution_count": 45,
      "outputs": [
        {
          "output_type": "stream",
          "name": "stdout",
          "text": [
            "[1, 2, 3]\n",
            "(2, 3, 4)\n",
            "{'Name': 'Avi', 'Age': 30, 'City': 'Allahabad'}\n"
          ]
        }
      ]
    },
    {
      "cell_type": "code",
      "source": [
        "#Ques 27. Write a code to create a list of 5 random numbers between 1 and 100, sort it in ascending order, and print the result.\n",
        "#Ans:\n",
        "import random\n",
        "\n",
        "random_numbers = [random.randint(1, 100) for _ in range(5)]\n",
        "random_numbers.sort()\n",
        "print(\"Sorted list of random numbers:\", random_numbers)"
      ],
      "metadata": {
        "colab": {
          "base_uri": "https://localhost:8080/"
        },
        "id": "Sg125GtpEj-m",
        "outputId": "73264d6e-b84f-46b9-ea29-d0aa2d875f35"
      },
      "execution_count": 46,
      "outputs": [
        {
          "output_type": "stream",
          "name": "stdout",
          "text": [
            "Sorted list of random numbers: [3, 16, 30, 39, 74]\n"
          ]
        }
      ]
    },
    {
      "cell_type": "code",
      "source": [
        "#Ques 28. Write a code to create a list with strings and print the element at the third index.\n",
        "\n",
        "#Ans:\n",
        "my_list = [\"Avinash\", \"bhardwaj\", \"pwskills\", \"Allahabad\"]\n",
        "print(my_list[3])"
      ],
      "metadata": {
        "colab": {
          "base_uri": "https://localhost:8080/"
        },
        "id": "bCxOfvCmE9ZJ",
        "outputId": "10a327f4-9074-4596-c8ac-a894f6f125ec"
      },
      "execution_count": 50,
      "outputs": [
        {
          "output_type": "stream",
          "name": "stdout",
          "text": [
            "Allahabad\n"
          ]
        }
      ]
    },
    {
      "cell_type": "code",
      "source": [
        "#Ques 29. Write a code to combine two dictionaries into one and print the result.\n",
        "\n",
        "#Ans:\n",
        "dict1 = {\"Name\":\"Avi\", \"Age\":30}\n",
        "dict2 = {\"City\":\"Allahabad\", \"Country\":\"India\"}\n",
        "dict1.update(dict2)\n",
        "print(dict1)"
      ],
      "metadata": {
        "colab": {
          "base_uri": "https://localhost:8080/"
        },
        "id": "GhgzkdLaFrFt",
        "outputId": "ff231465-f101-4a78-c2fb-603e0e6d8366"
      },
      "execution_count": 51,
      "outputs": [
        {
          "output_type": "stream",
          "name": "stdout",
          "text": [
            "{'Name': 'Avi', 'Age': 30, 'City': 'Allahabad', 'Country': 'India'}\n"
          ]
        }
      ]
    },
    {
      "cell_type": "code",
      "source": [
        "#Ques30. Write a code to convert a list of strings into a set.\n",
        "\n",
        "#Ans:\n",
        "my_list = [\"Avinash\", \"bhardwaj\", \"pwskills\", \"Allahabad\"]\n",
        "my_set = set(my_list)\n",
        "print(my_set)"
      ],
      "metadata": {
        "colab": {
          "base_uri": "https://localhost:8080/"
        },
        "id": "o3sbJqnAFx1h",
        "outputId": "13b94a6b-1e4d-4c98-9401-929eb522d743"
      },
      "execution_count": 52,
      "outputs": [
        {
          "output_type": "stream",
          "name": "stdout",
          "text": [
            "{'bhardwaj', 'Allahabad', 'pwskills', 'Avinash'}\n"
          ]
        }
      ]
    }
  ]
}